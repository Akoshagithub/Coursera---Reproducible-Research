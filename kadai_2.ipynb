{
  "nbformat": 4,
  "nbformat_minor": 0,
  "metadata": {
    "colab": {
      "provenance": [],
      "authorship_tag": "ABX9TyNnpalGWWBHYfTL8qKDBMnb",
      "include_colab_link": true
    },
    "kernelspec": {
      "name": "python3",
      "display_name": "Python 3"
    },
    "language_info": {
      "name": "python"
    }
  },
  "cells": [
    {
      "cell_type": "markdown",
      "metadata": {
        "id": "view-in-github",
        "colab_type": "text"
      },
      "source": [
        "<a href=\"https://colab.research.google.com/github/Akoshagithub/Coursera---Reproducible-Research/blob/main/kadai_2.ipynb\" target=\"_parent\"><img src=\"https://colab.research.google.com/assets/colab-badge.svg\" alt=\"Open In Colab\"/></a>"
      ]
    },
    {
      "cell_type": "code",
      "execution_count": null,
      "metadata": {
        "id": "Oovq9rvNUbDf"
      },
      "outputs": [],
      "source": [
        "-- BMI 18.5 未満：痩せ型 -- 30以上、35未満：肥満（2度）\n",
        "-- 18.5以上、25未満：普通 -- 35以上、40未満：肥満（3度）\n",
        "-- 25以上、30未満：肥満（1度） -- 40以上：肥満（4度）\n",
        "\n"
      ]
    },
    {
      "cell_type": "code",
      "source": [
        "def classifyHuman_BMI(weight, height):\n",
        "  BMI = weight/( height/100)/(height/100)\n",
        "  if BMI >=40:\n",
        "    return \"肥満（4度）\"\n",
        "  elif BMI>=35 and BMI<40:\n",
        "    return \"肥満（3度）\"\n",
        "  elif BMI>=30 and BMI<35:\n",
        "    return \"肥満（2度）\"\n",
        "  elif BMI>=25 and BMI<30:\n",
        "    return \"肥満（1度）\"\n",
        "  elif BMI>=18.5 and BMI<25:\n",
        "    return \"普通\"\n",
        "  elif BMI<18.5:\n",
        "    return \"痩せ型\"\n",
        "\n"
      ],
      "metadata": {
        "id": "wbD-MhMZVZIc"
      },
      "execution_count": null,
      "outputs": []
    },
    {
      "cell_type": "code",
      "source": [
        "classifyHuman_BMI(80,170)"
      ],
      "metadata": {
        "colab": {
          "base_uri": "https://localhost:8080/",
          "height": 35
        },
        "id": "JKm4WFPOcLn7",
        "outputId": "5442c767-538c-47f4-c629-b699e04ddcdc"
      },
      "execution_count": null,
      "outputs": [
        {
          "output_type": "execute_result",
          "data": {
            "text/plain": [
              "'肥満（1度）'"
            ],
            "application/vnd.google.colaboratory.intrinsic+json": {
              "type": "string"
            }
          },
          "metadata": {},
          "execution_count": 2
        }
      ]
    }
  ]
}